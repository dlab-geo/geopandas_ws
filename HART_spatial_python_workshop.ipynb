{
 "cells": [
  {
   "cell_type": "markdown",
   "metadata": {},
   "source": [
    "# ___TODO___\n",
    "\n",
    "### Review, and clean-up/streamline the overall flow\n",
    "\n",
    "### Add a bit more plotting, geometric manipulations, and analysis (even if just rudimentary plotting of tweet points, some silly buffering and set substraction of them against the states, and maybe some simplistic calculations of point-pattern analysis of the tweets)"
   ]
  },
  {
   "cell_type": "markdown",
   "metadata": {},
   "source": [
    "# <center><FONT COLOR='#2FC220' FONT='Palatino Linotype'> <h1><FONT COLOR='#112050' FACE='Georgia'>Geospatial programming in Python</FONT></h1>  <h2>UC Berkeley D-Lab</h2>  <h6>Sunday October 16, 2016</h6>   </FONT> </center><img src=\"https://encrypted-tbn0.gstatic.com/images?q=tbn:ANd9GcQduoeBGd_WD3exm8Q3Yi28CaaJFEweQwFGneaGOmEU8UoFmgeRXSndtA\" style=\"float: left; width: 15%; margin-right: 1%; margin-bottom: 0.5em;\">\n",
    "<img src=\"https://encrypted-tbn0.gstatic.com/images?q=tbn:ANd9GcSeUM4U5dSW8No1p8RdeKQ16m4qLvvVzMkCqwoDLt98phmZrmNNUdMXiA\" style=\"float: right; width: 15%; margin-right: 1%; margin-bottom: 0.5em;\"> <p style=\"clear: both;\"> \n",
    "_________________________________"
   ]
  },
  {
   "cell_type": "code",
   "execution_count": 1,
   "metadata": {
    "collapsed": true
   },
   "outputs": [],
   "source": [
    "#IPython functionalities we'll need\n",
    "from IPython.display import Image, SVG, HTML, IFrame  #display URL images and HTML/webpages\n",
    "%matplotlib inline  \n",
    "#^^plot inline (i.e. within the Jupyter notebook)^^\n",
    "\n",
    "#Some general-purpose packages and functions we'll use\n",
    "import pandas as pd\n",
    "import numpy as np\n",
    "from collections import Counter as C\n",
    "from collections import OrderedDict as OD\n",
    "import matplotlib.pyplot as plt\n",
    "from urllib import urlretrieve\n",
    "import os\n",
    "import json\n",
    "import yaml\n",
    "from requests_oauthlib import OAuth1Session\n",
    "\n",
    "\n",
    "#Python spatial packages we'll be using\n",
    "from geopy.geocoders import GoogleV3\n",
    "from mpl_toolkits.basemap import Basemap\n",
    "import geopandas as gpd\n",
    "import fiona\n",
    "from shapely.geometry import *\n"
   ]
  },
  {
   "cell_type": "markdown",
   "metadata": {
    "collapsed": true
   },
   "source": [
    "---------------------------------\n",
    "# <u>What is geospatial data?</u>\n",
    "\n",
    "### _A very brief review_\n",
    "\n"
   ]
  },
  {
   "cell_type": "markdown",
   "metadata": {},
   "source": [
    "__Geospatial data__ is any data, whatever the form, that includes data associating it with its proper location on the face of the earth.\n",
    "\n"
   ]
  },
  {
   "cell_type": "markdown",
   "metadata": {},
   "source": [
    "Typically, the spatial location of data is expressed using __coordinate pairs__ indicating the position of each point in the dataset.  \n",
    "\n",
    "Coordinates can be of two general types:"
   ]
  },
  {
   "cell_type": "markdown",
   "metadata": {},
   "source": [
    "1. __geographic__: expressed as angles in two dimensions that determine points on a globe, using:\n",
    "\n",
    "\n",
    "- __latitude__: from -90 &deg; at the South Pole to +90 &deg; at the North Pole, with 0&deg; latitude defined at the Equator\n",
    "\n",
    "and \n",
    "\n",
    "- __longitude__: running either from -180&deg; to +180&deg; or from 0&deg; to 360&deg;, with 0&deg; defined at the Greenwich Meridian in either case (_which can sometimes be tricky when working with data!_)  \n",
    "\n",
    "\n",
    "<img src=\"http://kartoweb.itc.nl/geometrics/Bitmaps/geographic%20coordinate%20system.gif\" alt=\"list\" width=\"440\">\n",
    "</img>\n",
    "\n",
    "\n"
   ]
  },
  {
   "cell_type": "markdown",
   "metadata": {},
   "source": [
    "Geographic coordinates are typically thought of as referring to a location on a __spheroid__ or __ellipsoid__ that serves as a mathematical model (approximation) of the true, lumpy __geoid__ that is our planet. \n",
    "\n",
    "(_FYI: The geoid itself is a model, of the surface of the earth's gravity field... but this is getting beyond our realm of concern._)\n",
    "\n",
    "<img src=\"http://i0.wp.com/www.icsm.gov.au/mapping/web_images/spheroid_height.jpg\" alt=\"list\" width=\"440\">\n",
    "</img>\n",
    "\n",
    "Because strict spheroids and ellipsoids do not allow for important local variations in elevation, they are used as the bases for the the defintion of various __geodetic datums__, which then serve as the mathematical models that provide the reference points against which coordinates can be expressed. Thus, the spheroid/ellipsoid and geodetic datum two of the main components we must consider when working the __coordinate reference systems (CRS)__ of our datasets."
   ]
  },
  {
   "cell_type": "markdown",
   "metadata": {},
   "source": [
    "2. __cartographic__: expressed as points on Euclidean (planar) axes, after the globe's surface has been orojected onto the plane\n",
    "\n",
    "Here's an example of one cartographic coordinate scheme, called UTM (Universal Transverse Mercator). In this scheme, a point's location is defined with reference to the lower-left corner (serving as the graph origin) of the UTM quadrant in which it falls.\n",
    "\n",
    "<img src=\"https://courses.washington.edu/gis250/lessons/projection/images_av3/utmworld.gif\" alt=\"list\" width=\"500\">\n",
    "</img>\n"
   ]
  },
  {
   "cell_type": "markdown",
   "metadata": {},
   "source": [
    "A __projection__ is a scheme for representing the globe's surface on a flat plane. You can literally imagine placing the global next to or inside a regular geometric object, e.g. a plane (yielding a planar projection) or a cylinder (a cylindrical projection) or a cone (conical projection), putting a light inside the globe (jack-o-lantern-style), capturing the image on the cylinder or cone, and then cutting it and unfolfing it flat. There are a number of other such schemes.               \n",
    "\n",
    "<img src=\"http://images.flatworldknowledge.com/campbell/campbell-fig02_011.jpg\" alt=\"list\" width=\"450\">\n",
    "</img>\n",
    "\n",
    "Along with the ellipsoid and the geodetic datum, the projection is the other major defining characteristic of a CRS. We must know the values of all three of these (or, as we'll see, a unique code representing a unique combination of values) that define the CRS of each of our datasets. This is because, when working with multiple datasets, we must reconcile the CRS of all of them before spatial analysis and/or mapping.\n"
   ]
  },
  {
   "cell_type": "markdown",
   "metadata": {},
   "source": [
    "Importantly, it is proven impossible to devise a projection that maintains the true areas, sizes, angular relations, and shapes of geographic entities (something's gotta give), so when choosing projections we often want to consider which of these are most important to preserve for our purposes (i.e. do we want an equal-area projection? an equal-angle projection? etc.)      \n",
    "\n",
    "People have many (sometimes strong) opinions about map projections:\n",
    "\n",
    "<img src=\"https://imgs.xkcd.com/comics/map_projections.png\" alt=\"list\" width=\"750\">\n",
    "</img>"
   ]
  },
  {
   "cell_type": "markdown",
   "metadata": {},
   "source": [
    "Geospatial data typically is stored in one of two common ways:   \n",
    "\n",
    "1. __Vector__: Points, lines, or polygons (or sets of these) can be expressed as connected series of points; the number of points used per real-world distance will determine the resolution of this representation (and thus, the level or grain of detail with which we are representing the real-world complexity of a geographic feature (consider, for example, that the most accurate map of the CA coast would be a 1:1 scaled replica of the coast...). Basically, think of a 'connect-the-dots' model.\n",
    "\n",
    "<img src=\"http://neondataskills.org/images/dc-spatial-vector/pnt_line_poly.png\" alt=\"list\" width=\"550\">\n",
    "</img>\n",
    "\n"
   ]
  },
  {
   "cell_type": "markdown",
   "metadata": {},
   "source": [
    "2. __Raster__: Continuously spatially distributed variables are often represented by gridded cells, each having a location (which can be canonically as the coordinates of its center, or of its lower-left corner, etcetera) and at least one value (for the variable of interest). Cells will have a fixed cell-size (typically expressed as the real-world distance represented by a cell-side, in either distance or degrees), and this cell-size will determine the resolution (i.e. level of detail) with which we represent the real-world complexity of this variable. Basically, think of a square-grid 'color-by-number' model. (Indeed, digitalphotos are saved as rasters, usually with each cell having 3 values, for red, green, and blue.)         \n",
    "\n",
    "<img src=\"http://desktop.arcgis.com/en/arcmap/10.3/manage-data/geodatabases/GUID-885FD35E-8680-4FFE-A3D7-76E473F31B76-web.gif\" alt=\"list\" width=\"700\">\n",
    "</img>\n"
   ]
  },
  {
   "cell_type": "markdown",
   "metadata": {},
   "source": [
    "It is important to keep in mind that raster and vector formats are two alternative ways of digitally representing the analog (i.e. real) world. In some cases, one of the two makes much more sense as a representation scheme for a real thing. For example, cities, hard-bounded entities, are usually represented as vector data (either points of polygons); temperature, a continuously distributed variable, is usually represented as raster data (although isotherms could be drawn as polygons!). \n",
    "\n",
    "It is also possible, and indeed is common in many geospatial workflows, to convert between raster and vector data.\n",
    "\n",
    "<img src=\"http://www.geography.hunter.cuny.edu/~jochen/GTECH361/lectures/lecture05/concepts/03%20-%20Geographic%20data%20models_files/image003.gif\" alt=\"list\" width=\"500\">\n",
    "</img>"
   ]
  },
  {
   "cell_type": "markdown",
   "metadata": {},
   "source": [
    "------------------\n",
    "_______________________\n",
    "\n",
    "# Now... code time!\n",
    "\n",
    "That was a VERY brief run-down. I'm sure some things are still vague, but it should all make more sense as we start to play with actual data. Most of the data we will be working with is vector data, but we'll also briefly see some raster data at the end.  Here goes!... "
   ]
  },
  {
   "cell_type": "code",
   "execution_count": 2,
   "metadata": {
    "collapsed": false
   },
   "outputs": [],
   "source": [
    "#Let's start by creating the simplest toy geospatial dataset possible...\n",
    "\n",
    "pizza = {'city':['San Francisco', 'Chicago', 'New York'], \n",
    "         'state':['CA', 'IL', 'NY'],\n",
    "         'has_real_pizza': ['N', '?', 'Y'],\n",
    "         'notes': ['Di Fara rocks', 'I don\\'t buy it...', 'Cheesboard is delicious though!']\n",
    "        }\n",
    "pizza = pd.DataFrame.from_dict(pizza)"
   ]
  },
  {
   "cell_type": "code",
   "execution_count": 3,
   "metadata": {
    "collapsed": false
   },
   "outputs": [
    {
     "data": {
      "text/html": [
       "<div>\n",
       "<table border=\"1\" class=\"dataframe\">\n",
       "  <thead>\n",
       "    <tr style=\"text-align: right;\">\n",
       "      <th></th>\n",
       "      <th>city</th>\n",
       "      <th>has_real_pizza</th>\n",
       "      <th>notes</th>\n",
       "      <th>state</th>\n",
       "    </tr>\n",
       "  </thead>\n",
       "  <tbody>\n",
       "    <tr>\n",
       "      <th>0</th>\n",
       "      <td>San Francisco</td>\n",
       "      <td>N</td>\n",
       "      <td>Di Fara rocks</td>\n",
       "      <td>CA</td>\n",
       "    </tr>\n",
       "    <tr>\n",
       "      <th>1</th>\n",
       "      <td>Chicago</td>\n",
       "      <td>?</td>\n",
       "      <td>I don't buy it...</td>\n",
       "      <td>IL</td>\n",
       "    </tr>\n",
       "    <tr>\n",
       "      <th>2</th>\n",
       "      <td>New York</td>\n",
       "      <td>Y</td>\n",
       "      <td>Cheesboard is delicious though!</td>\n",
       "      <td>NY</td>\n",
       "    </tr>\n",
       "  </tbody>\n",
       "</table>\n",
       "</div>"
      ],
      "text/plain": [
       "            city has_real_pizza                            notes state\n",
       "0  San Francisco              N                    Di Fara rocks    CA\n",
       "1        Chicago              ?                I don't buy it...    IL\n",
       "2       New York              Y  Cheesboard is delicious though!    NY"
      ]
     },
     "execution_count": 3,
     "metadata": {},
     "output_type": "execute_result"
    }
   ],
   "source": [
    "#regular old data\n",
    "pizza"
   ]
  },
  {
   "cell_type": "code",
   "execution_count": 4,
   "metadata": {
    "collapsed": false
   },
   "outputs": [],
   "source": [
    "#create a geocoder object from the GoogleV3 geocoder function that we imported from geopy\n",
    "geocoder = GoogleV3()"
   ]
  },
  {
   "cell_type": "code",
   "execution_count": 5,
   "metadata": {
    "collapsed": false
   },
   "outputs": [],
   "source": [
    "# use the geocoder to grab the lat and lon for each of our places, and dump them into our dataframe\n",
    "geocodes = [geocoder.geocode(', '.join([pizza['city'][i], pizza['state'][i]]))for i in range(len(pizza))]\n",
    "pizza['lat'] = [g.latitude for g in geocodes]\n",
    "pizza['lon'] = [g.longitude for g in geocodes]\n",
    "\n",
    "#NOTE: If you plan on using this on your own data, you will be subject to rate and daily limits, just like most APIs,\n",
    "# so have a plan for dealing with this!"
   ]
  },
  {
   "cell_type": "code",
   "execution_count": 6,
   "metadata": {
    "collapsed": false
   },
   "outputs": [
    {
     "data": {
      "text/html": [
       "<div>\n",
       "<table border=\"1\" class=\"dataframe\">\n",
       "  <thead>\n",
       "    <tr style=\"text-align: right;\">\n",
       "      <th></th>\n",
       "      <th>city</th>\n",
       "      <th>has_real_pizza</th>\n",
       "      <th>notes</th>\n",
       "      <th>state</th>\n",
       "      <th>lat</th>\n",
       "      <th>lon</th>\n",
       "    </tr>\n",
       "  </thead>\n",
       "  <tbody>\n",
       "    <tr>\n",
       "      <th>0</th>\n",
       "      <td>San Francisco</td>\n",
       "      <td>N</td>\n",
       "      <td>Di Fara rocks</td>\n",
       "      <td>CA</td>\n",
       "      <td>37.774929</td>\n",
       "      <td>-122.419415</td>\n",
       "    </tr>\n",
       "    <tr>\n",
       "      <th>1</th>\n",
       "      <td>Chicago</td>\n",
       "      <td>?</td>\n",
       "      <td>I don't buy it...</td>\n",
       "      <td>IL</td>\n",
       "      <td>41.878114</td>\n",
       "      <td>-87.629798</td>\n",
       "    </tr>\n",
       "    <tr>\n",
       "      <th>2</th>\n",
       "      <td>New York</td>\n",
       "      <td>Y</td>\n",
       "      <td>Cheesboard is delicious though!</td>\n",
       "      <td>NY</td>\n",
       "      <td>40.712784</td>\n",
       "      <td>-74.005941</td>\n",
       "    </tr>\n",
       "  </tbody>\n",
       "</table>\n",
       "</div>"
      ],
      "text/plain": [
       "            city has_real_pizza                            notes state  \\\n",
       "0  San Francisco              N                    Di Fara rocks    CA   \n",
       "1        Chicago              ?                I don't buy it...    IL   \n",
       "2       New York              Y  Cheesboard is delicious though!    NY   \n",
       "\n",
       "         lat         lon  \n",
       "0  37.774929 -122.419415  \n",
       "1  41.878114  -87.629798  \n",
       "2  40.712784  -74.005941  "
      ]
     },
     "execution_count": 6,
     "metadata": {},
     "output_type": "execute_result"
    }
   ],
   "source": [
    "#geospatial data!\n",
    "pizza"
   ]
  },
  {
   "cell_type": "markdown",
   "metadata": {},
   "source": [
    "Now, how could we easily throw this data onto a map?\n",
    "\n",
    "The basemap package gives us some pretty, quick access to, well, basemaps!"
   ]
  },
  {
   "cell_type": "code",
   "execution_count": 7,
   "metadata": {
    "collapsed": false
   },
   "outputs": [
    {
     "data": {
      "text/html": [
       "\n",
       "        <iframe\n",
       "            width=\"700\"\n",
       "            height=\"350\"\n",
       "            src=\"http://matplotlib.org/basemap/users/examples.html\"\n",
       "            frameborder=\"0\"\n",
       "            allowfullscreen\n",
       "        ></iframe>\n",
       "        "
      ],
      "text/plain": [
       "<IPython.lib.display.IFrame at 0x7fc0bc068550>"
      ]
     },
     "execution_count": 7,
     "metadata": {},
     "output_type": "execute_result"
    }
   ],
   "source": [
    "#Basemap has a ton of documentation, and a lot of gallery code to steal from and toy with\n",
    "\n",
    "IFrame('http://matplotlib.org/basemap/users/examples.html', width=700, height=350)"
   ]
  },
  {
   "cell_type": "code",
   "execution_count": 8,
   "metadata": {
    "collapsed": false
   },
   "outputs": [
    {
     "data": {
      "text/html": [
       "\n",
       "        <iframe\n",
       "            width=\"700\"\n",
       "            height=\"700\"\n",
       "            src=\"http://boundingbox.klokantech.com/\"\n",
       "            frameborder=\"0\"\n",
       "            allowfullscreen\n",
       "        ></iframe>\n",
       "        "
      ],
      "text/plain": [
       "<IPython.lib.display.IFrame at 0x7fc0918c8e50>"
      ]
     },
     "execution_count": 8,
     "metadata": {},
     "output_type": "execute_result"
    }
   ],
   "source": [
    "#And here's a good tool for quickly grabbing bounding-box coordinates \n",
    "#(i.e. the coordinate pairs associated with lower-left and upper-right corners\n",
    "#of the geographic area you'd like to zoom in on)\n",
    "\n",
    "IFrame('http://boundingbox.klokantech.com/', width=700, height=700)"
   ]
  },
  {
   "cell_type": "code",
   "execution_count": 9,
   "metadata": {
    "collapsed": false
   },
   "outputs": [
    {
     "data": {
      "image/png": "[encoded data removed]",
      "text/plain": [
       "<matplotlib.figure.Figure at 0x7fc0918c8cd0>"
      ]
     },
     "metadata": {},
     "output_type": "display_data"
    }
   ],
   "source": [
    "#We'll plug and chug, using some really basic boilerplate code \n",
    "#guilelessly stolen from Basemap's example gallery above: \n",
    "\n",
    "plt.figure(figsize = (15,10))\n",
    "\n",
    "# set our lower-left and upper-right corners to whatever coordinates you got from \n",
    "# the bounding-box tool in the webpage above:\n",
    "ll = (-132.7,21.9)  #THE 1ST AND 2ND PAIR OF COORDS FROM THE BBOX YOU DREW ABOVE\n",
    "ur = (-60.6,50.8)\n",
    "\n",
    "# create simplistic Basemap instance:\n",
    "m = Basemap(llcrnrlon=ll[0],urcrnrlon=ur[0],\\\n",
    "            llcrnrlat=ll[1],urcrnrlat=ur[1])\n",
    "# add coastlines, state and country borders\n",
    "m.drawcoastlines()\n",
    "m.drawstates()\n",
    "m.drawcountries()\n",
    "\n",
    "#plot our data on top!\n",
    "colors = {'Y': 'green', '?': 'yellow', 'N':'red'}\n",
    "\n",
    "plt.scatter(pizza['lon'], pizza['lat'],\\\n",
    "            c = [colors[val] for val in pizza['has_real_pizza']], s = 400)\n",
    "plt.title('Should I go there for pizza?', fontsize = 25)\n",
    "plt.show()\n",
    "\n",
    "\n"
   ]
  },
  {
   "cell_type": "markdown",
   "metadata": {},
   "source": [
    "---------------------------\n",
    "\n",
    "# Combining datasets\n",
    "\n",
    "### Now, let's read in one each of four major spatial data types (points, lines, polygons, and rasters)\n",
    "\n",
    "### We will use these to introspect common data formats\n",
    "\n",
    "### Then we will work with them in combination, to demonstrate some common spatial operations"
   ]
  },
  {
   "cell_type": "code",
   "execution_count": 10,
   "metadata": {
    "collapsed": false
   },
   "outputs": [],
   "source": [
    "#First, let's create a separate subdirectory in our working directory, just for data:\n",
    "data_dir = 'practice_data'\n",
    "\n",
    "if data_dir not in os.listdir('.'):\n",
    "    os.mkdir('./%s' % data_dir)"
   ]
  },
  {
   "cell_type": "markdown",
   "metadata": {},
   "source": [
    "----------------------------\n",
    "# Raster\n",
    "\n",
    "### Briefly dowload, average, and plot some simple climate data behind the pizza data, simply to demonstrate how rasters work. Only about 10 - 15 minutes. Mention that a lot more can be done with rasters, but because of time constraints will be outside the purview of this workshop.\n",
    "\n",
    "While we will not spend more time with raster data after this section of the workshop, it is important that we get some basic exposure to it.\n",
    "\n",
    "Again, rasters are used to store regularly gridded spatial data (typically thought of as representing continuously spatially distributed variables).\n",
    "\n",
    "Here, we will briefly download, load, and introspect the storage of some raster data.\n",
    "\n",
    "# ___COMPLETE THIS___"
   ]
  },
  {
   "cell_type": "markdown",
   "metadata": {},
   "source": [
    "# Vector Data\n",
    "\n",
    "### Also aim for 10-15 minutes here, so that bulk of time can be spent on manipulation and use of polling/states/twitter data below!\n",
    "\n",
    "Again, vector data can come in the form of points, lines, polygons, and multi-lines/multi-polygons.\n",
    "\n",
    "Here, we will briefly download, load, and introspect the storage of some basic polygon data."
   ]
  },
  {
   "cell_type": "code",
   "execution_count": 34,
   "metadata": {
    "collapsed": true
   },
   "outputs": [
    {
     "data": {
      "text/html": [
       "\n",
       "        <iframe\n",
       "            width=\"1000\"\n",
       "            height=\"700\"\n",
       "            src=\"http://toblerity.org/fiona/manual.html\"\n",
       "            frameborder=\"0\"\n",
       "            allowfullscreen\n",
       "        ></iframe>\n",
       "        "
      ],
      "text/plain": [
       "<IPython.lib.display.IFrame at 0x7fc06b6b1090>"
      ]
     },
     "execution_count": 34,
     "metadata": {},
     "output_type": "execute_result"
    }
   ],
   "source": [
    "#We'll use fiona to read in shapefiles\n",
    "#Simple, quick, easy, clean. \n",
    "\n",
    "#Importantly, this is one of the core Python spatial packages upon which the GeoPandas package \n",
    "#(which we'll be working with a bit later on) is built\n",
    "\n",
    "IFrame('http://toblerity.org/fiona/manual.html', width = 1000, height = 700)"
   ]
  },
  {
   "cell_type": "code",
   "execution_count": 116,
   "metadata": {
    "collapsed": false
   },
   "outputs": [
    {
     "data": {
      "text/plain": [
       "('./practice_data/counties.zip',\n",
       " <httplib.HTTPMessage instance at 0x7efe0d499638>)"
      ]
     },
     "execution_count": 116,
     "metadata": {},
     "output_type": "execute_result"
    }
   ],
   "source": [
    "#Let's download a shapefile of California counties\n",
    "urlretrieve('http://52.26.186.219/internships/useit/sites/scec.usc.edu.internships.useit/files/presentations/California%20County%20Shape%20Files.zip',\\\n",
    "            './%s/counties.zip' % data_dir)\n",
    "\n",
    "#And again go unzip it..."
   ]
  },
  {
   "cell_type": "code",
   "execution_count": 37,
   "metadata": {
    "collapsed": false
   },
   "outputs": [],
   "source": [
    "#Now let's open this file with Fiona\n",
    "counties = fiona.open('./%s/California County Shape Files/County/CaliforniaCounty.shp' % data_dir, 'r') "
   ]
  },
  {
   "cell_type": "code",
   "execution_count": 40,
   "metadata": {
    "collapsed": true
   },
   "outputs": [
    {
     "data": {
      "text/plain": [
       "OrderedDict([(u'STATEFP', u'06'),\n",
       "             (u'COUNTYFP', u'107'),\n",
       "             (u'COUNTYNS', u'00277318'),\n",
       "             (u'GEOID', u'06107'),\n",
       "             (u'NAME', u'Tulare'),\n",
       "             (u'NAMELSAD', u'Tulare County'),\n",
       "             (u'LSAD', u'06'),\n",
       "             (u'CLASSFP', u'H1'),\n",
       "             (u'MTFCC', u'G4020'),\n",
       "             (u'CSAFP', None),\n",
       "             (u'CBSAFP', u'47300'),\n",
       "             (u'METDIVFP', None),\n",
       "             (u'FUNCSTAT', u'A'),\n",
       "             (u'ALAND', 12494707314.0),\n",
       "             (u'AWATER', 37391604.0),\n",
       "             (u'INTPTLAT', u'+36.2288317'),\n",
       "             (u'INTPTLON', u'-118.7810618')])"
      ]
     },
     "execution_count": 40,
     "metadata": {},
     "output_type": "execute_result"
    }
   ],
   "source": [
    "#Let's take a look at what properties each of the records in here possesses:\n",
    "list(counties)[0]['properties']"
   ]
  },
  {
   "cell_type": "code",
   "execution_count": 42,
   "metadata": {
    "collapsed": false
   },
   "outputs": [
    {
     "data": {
      "text/plain": [
       "[(-119.474935, 36.400439),\n",
       " (-119.474908, 36.40076),\n",
       " (-119.474892, 36.400953),\n",
       " (-119.482504, 36.401046),\n",
       " (-119.483927, 36.401038),\n",
       " (-119.484813, 36.401033999999996),\n",
       " (-119.487325, 36.401021),\n",
       " (-119.488638, 36.401007),\n",
       " (-119.492643, 36.400967)]"
      ]
     },
     "execution_count": 42,
     "metadata": {},
     "output_type": "execute_result"
    }
   ],
   "source": [
    "#Now let's pull out a single geometric subunit and take a look:\n",
    "test_coords = list(counties)[0]['geometry']['coordinates'][0]\n",
    "test_coords[1:10]"
   ]
  },
  {
   "cell_type": "code",
   "execution_count": 49,
   "metadata": {
    "collapsed": false
   },
   "outputs": [
    {
     "data": {
      "text/plain": [
       "[<matplotlib.lines.Line2D at 0x7fc06b114e90>]"
      ]
     },
     "execution_count": 49,
     "metadata": {},
     "output_type": "execute_result"
    },
    {
     "data": {
      "image/png": "[encoded data removed]",
      "text/plain": [
       "<matplotlib.figure.Figure at 0x7fc06b238dd0>"
      ]
     },
     "metadata": {},
     "output_type": "display_data"
    }
   ],
   "source": [
    "#What does this all mean?...\n",
    "plt.plot([c[0] for c in test_coords[1:3]], [c[1] for c in test_coords[1:3]])"
   ]
  },
  {
   "cell_type": "code",
   "execution_count": null,
   "metadata": {
    "collapsed": true
   },
   "outputs": [],
   "source": [
    "plt.plot([c[0] for c in test_coords[1:10]], [c[1] for c in test_coords[1:10]])"
   ]
  },
  {
   "cell_type": "code",
   "execution_count": 44,
   "metadata": {
    "collapsed": false
   },
   "outputs": [
    {
     "data": {
      "text/plain": [
       "[<matplotlib.lines.Line2D at 0x7fc06acd8790>]"
      ]
     },
     "execution_count": 44,
     "metadata": {},
     "output_type": "execute_result"
    },
    {
     "data": {
      "image/png": "[encoded data removed]",
      "text/plain": [
       "<matplotlib.figure.Figure at 0x7fc0754a5ad0>"
      ]
     },
     "metadata": {},
     "output_type": "display_data"
    }
   ],
   "source": [
    "plt.plot([c[0] for c in test_coords[1:100]], [c[1] for c in test_coords[1:100]])"
   ]
  },
  {
   "cell_type": "code",
   "execution_count": 46,
   "metadata": {
    "collapsed": false
   },
   "outputs": [
    {
     "data": {
      "text/plain": [
       "[<matplotlib.lines.Line2D at 0x7fc06aec4f50>]"
      ]
     },
     "execution_count": 46,
     "metadata": {},
     "output_type": "execute_result"
    },
    {
     "data": {
      "image/png": "[encoded data removed]",
      "text/plain": [
       "<matplotlib.figure.Figure at 0x7fc075472b50>"
      ]
     },
     "metadata": {},
     "output_type": "display_data"
    }
   ],
   "source": [
    "plt.plot([c[0] for c in test_coords[1:1000]], [c[1] for c in test_coords[1:1000]])"
   ]
  },
  {
   "cell_type": "code",
   "execution_count": 47,
   "metadata": {
    "collapsed": false
   },
   "outputs": [
    {
     "data": {
      "text/plain": [
       "[<matplotlib.lines.Line2D at 0x7fc0701ec890>]"
      ]
     },
     "execution_count": 47,
     "metadata": {},
     "output_type": "execute_result"
    },
    {
     "data": {
      "image/png": "[encoded data removed]",
      "text/plain": [
       "<matplotlib.figure.Figure at 0x7fc06aec8590>"
      ]
     },
     "metadata": {},
     "output_type": "display_data"
    }
   ],
   "source": [
    "plt.plot([c[0] for c in test_coords[1:2500]], [c[1] for c in test_coords[1:2500]])"
   ]
  },
  {
   "cell_type": "code",
   "execution_count": 48,
   "metadata": {
    "collapsed": false
   },
   "outputs": [
    {
     "data": {
      "text/plain": [
       "[<matplotlib.lines.Line2D at 0x7fc06b21cd90>]"
      ]
     },
     "execution_count": 48,
     "metadata": {},
     "output_type": "execute_result"
    },
    {
     "data": {
      "image/png": "[encoded data removed]",
      "text/plain": [
       "<matplotlib.figure.Figure at 0x7fc06b31d610>"
      ]
     },
     "metadata": {},
     "output_type": "display_data"
    }
   ],
   "source": [
    "plt.plot([c[0] for c in test_coords], [c[1] for c in test_coords])\n",
    "\n",
    "#You'll now notice that this differs from the fault lines in that it's a line that reconnects to its own beginning,\n",
    "#i.e. a polygon!"
   ]
  },
  {
   "cell_type": "markdown",
   "metadata": {},
   "source": [
    "----------------\n",
    "# Raster\n",
    "\n",
    "Show some demo of raster data?..."
   ]
  },
  {
   "cell_type": "code",
   "execution_count": null,
   "metadata": {
    "collapsed": true
   },
   "outputs": [],
   "source": []
  },
  {
   "cell_type": "code",
   "execution_count": null,
   "metadata": {
    "collapsed": true
   },
   "outputs": [],
   "source": []
  },
  {
   "cell_type": "code",
   "execution_count": null,
   "metadata": {
    "collapsed": true
   },
   "outputs": [],
   "source": []
  },
  {
   "cell_type": "code",
   "execution_count": null,
   "metadata": {
    "collapsed": true
   },
   "outputs": [],
   "source": []
  },
  {
   "cell_type": "code",
   "execution_count": null,
   "metadata": {
    "collapsed": true
   },
   "outputs": [],
   "source": []
  },
  {
   "cell_type": "code",
   "execution_count": null,
   "metadata": {
    "collapsed": true
   },
   "outputs": [],
   "source": []
  },
  {
   "cell_type": "code",
   "execution_count": null,
   "metadata": {
    "collapsed": true
   },
   "outputs": [],
   "source": []
  },
  {
   "cell_type": "markdown",
   "metadata": {},
   "source": [
    "----------------\n",
    "# Non-referenced spatial data\n",
    "\n",
    "This is data that connects to spatial entities (in this case, states), but that will read in without actual geospatial references. We will merge this with proper geospatial data in order to be able to use its contents in spatial plots (i.e. maps) and analyses."
   ]
  },
  {
   "cell_type": "code",
   "execution_count": 7,
   "metadata": {
    "collapsed": false
   },
   "outputs": [],
   "source": [
    "#Download presidential polling data\n",
    "urlretrieve('http://www.electoral-vote.com/evp2016/Pres/pres_polls.csv', './%s/pres_polls.csv' % data_dir)"
   ]
  },
  {
   "cell_type": "code",
   "execution_count": 11,
   "metadata": {
    "collapsed": true
   },
   "outputs": [],
   "source": [
    "#And then read it in as a pandas dataframe\n",
    "polls = pd.read_csv('./%s/pres_polls.csv' % data_dir)"
   ]
  },
  {
   "cell_type": "code",
   "execution_count": 87,
   "metadata": {
    "collapsed": false
   },
   "outputs": [],
   "source": [
    "#Get the average polling percentage for each of the two main parties, by state\n",
    "state_mean_polls = pd.pivot_table(polls, index = 'State', aggfunc = np.mean)[['Dem', 'GOP']]"
   ]
  },
  {
   "cell_type": "code",
   "execution_count": 88,
   "metadata": {
    "collapsed": false
   },
   "outputs": [
    {
     "data": {
      "text/html": [
       "<div>\n",
       "<table border=\"1\" class=\"dataframe\">\n",
       "  <thead>\n",
       "    <tr style=\"text-align: right;\">\n",
       "      <th></th>\n",
       "      <th>Dem</th>\n",
       "      <th>GOP</th>\n",
       "    </tr>\n",
       "    <tr>\n",
       "      <th>State</th>\n",
       "      <th></th>\n",
       "      <th></th>\n",
       "    </tr>\n",
       "  </thead>\n",
       "  <tbody>\n",
       "    <tr>\n",
       "      <th>Alabama</th>\n",
       "      <td>34.750000</td>\n",
       "      <td>53.750000</td>\n",
       "    </tr>\n",
       "    <tr>\n",
       "      <th>Alaska</th>\n",
       "      <td>35.750000</td>\n",
       "      <td>45.875000</td>\n",
       "    </tr>\n",
       "    <tr>\n",
       "      <th>Arizona</th>\n",
       "      <td>41.071429</td>\n",
       "      <td>42.678571</td>\n",
       "    </tr>\n",
       "    <tr>\n",
       "      <th>Arkansas</th>\n",
       "      <td>35.272727</td>\n",
       "      <td>53.000000</td>\n",
       "    </tr>\n",
       "    <tr>\n",
       "      <th>California</th>\n",
       "      <td>53.387097</td>\n",
       "      <td>31.387097</td>\n",
       "    </tr>\n",
       "  </tbody>\n",
       "</table>\n",
       "</div>"
      ],
      "text/plain": [
       "                  Dem        GOP\n",
       "State                           \n",
       "Alabama     34.750000  53.750000\n",
       "Alaska      35.750000  45.875000\n",
       "Arizona     41.071429  42.678571\n",
       "Arkansas    35.272727  53.000000\n",
       "California  53.387097  31.387097"
      ]
     },
     "execution_count": 88,
     "metadata": {},
     "output_type": "execute_result"
    }
   ],
   "source": [
    "state_mean_polls.head()"
   ]
  },
  {
   "cell_type": "code",
   "execution_count": 100,
   "metadata": {
    "collapsed": false
   },
   "outputs": [],
   "source": [
    "state_mean_polls['advantage'] = [int(p) for p in list(state_mean_polls['GOP']/state_mean_polls['Dem'] > 1)]"
   ]
  },
  {
   "cell_type": "code",
   "execution_count": 101,
   "metadata": {
    "collapsed": false
   },
   "outputs": [
    {
     "data": {
      "text/html": [
       "<div>\n",
       "<table border=\"1\" class=\"dataframe\">\n",
       "  <thead>\n",
       "    <tr style=\"text-align: right;\">\n",
       "      <th></th>\n",
       "      <th>Dem</th>\n",
       "      <th>GOP</th>\n",
       "      <th>advantage</th>\n",
       "    </tr>\n",
       "    <tr>\n",
       "      <th>State</th>\n",
       "      <th></th>\n",
       "      <th></th>\n",
       "      <th></th>\n",
       "    </tr>\n",
       "  </thead>\n",
       "  <tbody>\n",
       "    <tr>\n",
       "      <th>Alabama</th>\n",
       "      <td>34.750000</td>\n",
       "      <td>53.750000</td>\n",
       "      <td>1</td>\n",
       "    </tr>\n",
       "    <tr>\n",
       "      <th>Alaska</th>\n",
       "      <td>35.750000</td>\n",
       "      <td>45.875000</td>\n",
       "      <td>1</td>\n",
       "    </tr>\n",
       "    <tr>\n",
       "      <th>Arizona</th>\n",
       "      <td>41.071429</td>\n",
       "      <td>42.678571</td>\n",
       "      <td>1</td>\n",
       "    </tr>\n",
       "    <tr>\n",
       "      <th>Arkansas</th>\n",
       "      <td>35.272727</td>\n",
       "      <td>53.000000</td>\n",
       "      <td>1</td>\n",
       "    </tr>\n",
       "    <tr>\n",
       "      <th>California</th>\n",
       "      <td>53.387097</td>\n",
       "      <td>31.387097</td>\n",
       "      <td>0</td>\n",
       "    </tr>\n",
       "  </tbody>\n",
       "</table>\n",
       "</div>"
      ],
      "text/plain": [
       "                  Dem        GOP  advantage\n",
       "State                                      \n",
       "Alabama     34.750000  53.750000          1\n",
       "Alaska      35.750000  45.875000          1\n",
       "Arizona     41.071429  42.678571          1\n",
       "Arkansas    35.272727  53.000000          1\n",
       "California  53.387097  31.387097          0"
      ]
     },
     "execution_count": 101,
     "metadata": {},
     "output_type": "execute_result"
    }
   ],
   "source": [
    "state_mean_polls.head()"
   ]
  },
  {
   "cell_type": "markdown",
   "metadata": {},
   "source": [
    "----------------\n",
    "# Polygons\n",
    "\n",
    "# __DO THE SAME AS BELOW, BUT CHANGE TO USING GEOPANDAS AND INTROSPECTING ONE OF THE GEOMETRIES__\n",
    "\n",
    "# __THEN USE THIS AND THE POINTS/LINES TO DEMO SOME COMMON SPATIAL OPERATIONS, MOSTLY IN GEOPANDAS FUNCTIONS__\n",
    "\n",
    "Polygon data are very common, often being used to represent borders of areas, jurisdictions, land masses, etc.\n",
    "\n",
    "Common polygon operations (some of which we will demonstrate) include:\n",
    "- joins\n",
    "- point extractions\n",
    "- merges\n",
    "- overlays and raster calculations\n",
    "- etcetera"
   ]
  },
  {
   "cell_type": "code",
   "execution_count": 31,
   "metadata": {
    "collapsed": false
   },
   "outputs": [
    {
     "data": {
      "text/plain": [
       "('./practice_data/states.zip',\n",
       " <httplib.HTTPMessage instance at 0x7f5683067d88>)"
      ]
     },
     "execution_count": 31,
     "metadata": {},
     "output_type": "execute_result"
    }
   ],
   "source": [
    "#Download a US states shapefile\n",
    "urlretrieve('http://www2.census.gov/geo/tiger/GENZ2015/shp/cb_2015_us_state_500k.zip', './%s/states.zip' % data_dir)\n",
    "\n",
    "#Now go unzip it!..."
   ]
  },
  {
   "cell_type": "code",
   "execution_count": 12,
   "metadata": {
    "collapsed": false,
    "scrolled": true
   },
   "outputs": [],
   "source": [
    "states = gpd.read_file('./%s/cb_2015_us_state_500k.shp' % data_dir)"
   ]
  },
  {
   "cell_type": "code",
   "execution_count": 13,
   "metadata": {
    "collapsed": false,
    "scrolled": true
   },
   "outputs": [
    {
     "data": {
      "text/html": [
       "<div>\n",
       "<table border=\"1\" class=\"dataframe\">\n",
       "  <thead>\n",
       "    <tr style=\"text-align: right;\">\n",
       "      <th></th>\n",
       "      <th>AFFGEOID</th>\n",
       "      <th>ALAND</th>\n",
       "      <th>AWATER</th>\n",
       "      <th>GEOID</th>\n",
       "      <th>LSAD</th>\n",
       "      <th>NAME</th>\n",
       "      <th>STATEFP</th>\n",
       "      <th>STATENS</th>\n",
       "      <th>STUSPS</th>\n",
       "      <th>geometry</th>\n",
       "    </tr>\n",
       "  </thead>\n",
       "  <tbody>\n",
       "    <tr>\n",
       "      <th>0</th>\n",
       "      <td>0400000US31</td>\n",
       "      <td>1.989724e+11</td>\n",
       "      <td>1.356295e+09</td>\n",
       "      <td>31</td>\n",
       "      <td>00</td>\n",
       "      <td>Nebraska</td>\n",
       "      <td>31</td>\n",
       "      <td>01779792</td>\n",
       "      <td>NE</td>\n",
       "      <td>POLYGON ((-104.053418545071 41.1705389679833, ...</td>\n",
       "    </tr>\n",
       "    <tr>\n",
       "      <th>1</th>\n",
       "      <td>0400000US53</td>\n",
       "      <td>1.721210e+11</td>\n",
       "      <td>1.254009e+10</td>\n",
       "      <td>53</td>\n",
       "      <td>00</td>\n",
       "      <td>Washington</td>\n",
       "      <td>53</td>\n",
       "      <td>01779804</td>\n",
       "      <td>WA</td>\n",
       "      <td>(POLYGON ((-122.33164 48.020556, -122.328343 4...</td>\n",
       "    </tr>\n",
       "    <tr>\n",
       "      <th>2</th>\n",
       "      <td>0400000US35</td>\n",
       "      <td>3.141614e+11</td>\n",
       "      <td>7.556740e+08</td>\n",
       "      <td>35</td>\n",
       "      <td>00</td>\n",
       "      <td>New Mexico</td>\n",
       "      <td>35</td>\n",
       "      <td>00897535</td>\n",
       "      <td>NM</td>\n",
       "      <td>POLYGON ((-109.050173 31.480004, -109.049843 3...</td>\n",
       "    </tr>\n",
       "    <tr>\n",
       "      <th>3</th>\n",
       "      <td>0400000US46</td>\n",
       "      <td>1.963494e+11</td>\n",
       "      <td>3.379811e+09</td>\n",
       "      <td>46</td>\n",
       "      <td>00</td>\n",
       "      <td>South Dakota</td>\n",
       "      <td>46</td>\n",
       "      <td>01785534</td>\n",
       "      <td>SD</td>\n",
       "      <td>POLYGON ((-104.057698 44.997431, -104.049505 4...</td>\n",
       "    </tr>\n",
       "    <tr>\n",
       "      <th>4</th>\n",
       "      <td>0400000US21</td>\n",
       "      <td>1.022663e+11</td>\n",
       "      <td>2.389483e+09</td>\n",
       "      <td>21</td>\n",
       "      <td>00</td>\n",
       "      <td>Kentucky</td>\n",
       "      <td>21</td>\n",
       "      <td>01779786</td>\n",
       "      <td>KY</td>\n",
       "      <td>(POLYGON ((-89.405654 36.528165, -89.398685 36...</td>\n",
       "    </tr>\n",
       "  </tbody>\n",
       "</table>\n",
       "</div>"
      ],
      "text/plain": [
       "      AFFGEOID         ALAND        AWATER GEOID LSAD          NAME STATEFP  \\\n",
       "0  0400000US31  1.989724e+11  1.356295e+09    31   00      Nebraska      31   \n",
       "1  0400000US53  1.721210e+11  1.254009e+10    53   00    Washington      53   \n",
       "2  0400000US35  3.141614e+11  7.556740e+08    35   00    New Mexico      35   \n",
       "3  0400000US46  1.963494e+11  3.379811e+09    46   00  South Dakota      46   \n",
       "4  0400000US21  1.022663e+11  2.389483e+09    21   00      Kentucky      21   \n",
       "\n",
       "    STATENS STUSPS                                           geometry  \n",
       "0  01779792     NE  POLYGON ((-104.053418545071 41.1705389679833, ...  \n",
       "1  01779804     WA  (POLYGON ((-122.33164 48.020556, -122.328343 4...  \n",
       "2  00897535     NM  POLYGON ((-109.050173 31.480004, -109.049843 3...  \n",
       "3  01785534     SD  POLYGON ((-104.057698 44.997431, -104.049505 4...  \n",
       "4  01779786     KY  (POLYGON ((-89.405654 36.528165, -89.398685 36...  "
      ]
     },
     "execution_count": 13,
     "metadata": {},
     "output_type": "execute_result"
    }
   ],
   "source": [
    "states.head()"
   ]
  },
  {
   "cell_type": "code",
   "execution_count": 18,
   "metadata": {
    "collapsed": false
   },
   "outputs": [],
   "source": [
    "#First, let's introspect the structure that stores a polygon\n",
    "samp_poly = states['geometry'][0]"
   ]
  },
  {
   "cell_type": "code",
   "execution_count": 33,
   "metadata": {
    "collapsed": false
   },
   "outputs": [
    {
     "data": {
      "text/plain": [
       "False"
      ]
     },
     "execution_count": 33,
     "metadata": {},
     "output_type": "execute_result"
    }
   ],
   "source": [
    "#HOW TO GET INTO THIS??"
   ]
  },
  {
   "cell_type": "code",
   "execution_count": 104,
   "metadata": {
    "collapsed": false
   },
   "outputs": [
    {
     "data": {
      "text/plain": [
       "50"
      ]
     },
     "execution_count": 104,
     "metadata": {},
     "output_type": "execute_result"
    }
   ],
   "source": [
    "#Check if we have only 50 matches between our polling data and our states shapefile (this could differ it \n",
    "#there are spelling errors, or if there invisible line breaks or spaces included in the state names, etc.)\n",
    "len([n for n, st in enumerate(list(states['NAME'])) if str(st) in list(state_mean_polls.index)])"
   ]
  },
  {
   "cell_type": "code",
   "execution_count": 105,
   "metadata": {
    "collapsed": true
   },
   "outputs": [],
   "source": [
    "#set the states index to the state names (i.e. NAME column)\n",
    "states = states.set_index('NAME')\n",
    "\n"
   ]
  },
  {
   "cell_type": "code",
   "execution_count": 106,
   "metadata": {
    "collapsed": true
   },
   "outputs": [],
   "source": [
    "states = pd.concat([states, state_mean_polls], axis=1, join='inner')"
   ]
  },
  {
   "cell_type": "code",
   "execution_count": 107,
   "metadata": {
    "collapsed": false
   },
   "outputs": [
    {
     "data": {
      "text/plain": [
       "50"
      ]
     },
     "execution_count": 107,
     "metadata": {},
     "output_type": "execute_result"
    }
   ],
   "source": [
    "#Check that it worked the way we wanted it to\n",
    "len(states)"
   ]
  },
  {
   "cell_type": "code",
   "execution_count": 108,
   "metadata": {
    "collapsed": false
   },
   "outputs": [
    {
     "data": {
      "text/html": [
       "<div>\n",
       "<table border=\"1\" class=\"dataframe\">\n",
       "  <thead>\n",
       "    <tr style=\"text-align: right;\">\n",
       "      <th></th>\n",
       "      <th>AFFGEOID</th>\n",
       "      <th>ALAND</th>\n",
       "      <th>AWATER</th>\n",
       "      <th>GEOID</th>\n",
       "      <th>LSAD</th>\n",
       "      <th>STATEFP</th>\n",
       "      <th>STATENS</th>\n",
       "      <th>STUSPS</th>\n",
       "      <th>geometry</th>\n",
       "      <th>Dem</th>\n",
       "      <th>GOP</th>\n",
       "      <th>advantage</th>\n",
       "    </tr>\n",
       "  </thead>\n",
       "  <tbody>\n",
       "    <tr>\n",
       "      <th>Alabama</th>\n",
       "      <td>0400000US01</td>\n",
       "      <td>1.311734e+11</td>\n",
       "      <td>4.593985e+09</td>\n",
       "      <td>01</td>\n",
       "      <td>00</td>\n",
       "      <td>01</td>\n",
       "      <td>01779775</td>\n",
       "      <td>AL</td>\n",
       "      <td>(POLYGON ((-88.053375 30.506987, -88.051087999...</td>\n",
       "      <td>34.750000</td>\n",
       "      <td>53.750000</td>\n",
       "      <td>1</td>\n",
       "    </tr>\n",
       "    <tr>\n",
       "      <th>Alaska</th>\n",
       "      <td>0400000US02</td>\n",
       "      <td>1.477946e+12</td>\n",
       "      <td>2.453917e+11</td>\n",
       "      <td>02</td>\n",
       "      <td>00</td>\n",
       "      <td>02</td>\n",
       "      <td>01785533</td>\n",
       "      <td>AK</td>\n",
       "      <td>(POLYGON ((-177.466812 51.904003, -177.464905 ...</td>\n",
       "      <td>35.750000</td>\n",
       "      <td>45.875000</td>\n",
       "      <td>1</td>\n",
       "    </tr>\n",
       "    <tr>\n",
       "      <th>Arizona</th>\n",
       "      <td>0400000US04</td>\n",
       "      <td>2.942045e+11</td>\n",
       "      <td>1.027559e+09</td>\n",
       "      <td>04</td>\n",
       "      <td>00</td>\n",
       "      <td>04</td>\n",
       "      <td>01779777</td>\n",
       "      <td>AZ</td>\n",
       "      <td>POLYGON ((-114.816294 32.508038, -114.814321 3...</td>\n",
       "      <td>41.071429</td>\n",
       "      <td>42.678571</td>\n",
       "      <td>1</td>\n",
       "    </tr>\n",
       "    <tr>\n",
       "      <th>Arkansas</th>\n",
       "      <td>0400000US05</td>\n",
       "      <td>1.347693e+11</td>\n",
       "      <td>2.962525e+09</td>\n",
       "      <td>05</td>\n",
       "      <td>00</td>\n",
       "      <td>05</td>\n",
       "      <td>00068085</td>\n",
       "      <td>AR</td>\n",
       "      <td>POLYGON ((-94.6178329666013 36.4994141203285, ...</td>\n",
       "      <td>35.272727</td>\n",
       "      <td>53.000000</td>\n",
       "      <td>1</td>\n",
       "    </tr>\n",
       "    <tr>\n",
       "      <th>California</th>\n",
       "      <td>0400000US06</td>\n",
       "      <td>4.034890e+11</td>\n",
       "      <td>2.047799e+10</td>\n",
       "      <td>06</td>\n",
       "      <td>00</td>\n",
       "      <td>06</td>\n",
       "      <td>01779778</td>\n",
       "      <td>CA</td>\n",
       "      <td>(POLYGON ((-118.604415 33.478552, -118.598783 ...</td>\n",
       "      <td>53.387097</td>\n",
       "      <td>31.387097</td>\n",
       "      <td>0</td>\n",
       "    </tr>\n",
       "  </tbody>\n",
       "</table>\n",
       "</div>"
      ],
      "text/plain": [
       "               AFFGEOID         ALAND        AWATER GEOID LSAD STATEFP  \\\n",
       "Alabama     0400000US01  1.311734e+11  4.593985e+09    01   00      01   \n",
       "Alaska      0400000US02  1.477946e+12  2.453917e+11    02   00      02   \n",
       "Arizona     0400000US04  2.942045e+11  1.027559e+09    04   00      04   \n",
       "Arkansas    0400000US05  1.347693e+11  2.962525e+09    05   00      05   \n",
       "California  0400000US06  4.034890e+11  2.047799e+10    06   00      06   \n",
       "\n",
       "             STATENS STUSPS  \\\n",
       "Alabama     01779775     AL   \n",
       "Alaska      01785533     AK   \n",
       "Arizona     01779777     AZ   \n",
       "Arkansas    00068085     AR   \n",
       "California  01779778     CA   \n",
       "\n",
       "                                                     geometry        Dem  \\\n",
       "Alabama     (POLYGON ((-88.053375 30.506987, -88.051087999...  34.750000   \n",
       "Alaska      (POLYGON ((-177.466812 51.904003, -177.464905 ...  35.750000   \n",
       "Arizona     POLYGON ((-114.816294 32.508038, -114.814321 3...  41.071429   \n",
       "Arkansas    POLYGON ((-94.6178329666013 36.4994141203285, ...  35.272727   \n",
       "California  (POLYGON ((-118.604415 33.478552, -118.598783 ...  53.387097   \n",
       "\n",
       "                  GOP  advantage  \n",
       "Alabama     53.750000          1  \n",
       "Alaska      45.875000          1  \n",
       "Arizona     42.678571          1  \n",
       "Arkansas    53.000000          1  \n",
       "California  31.387097          0  "
      ]
     },
     "execution_count": 108,
     "metadata": {},
     "output_type": "execute_result"
    }
   ],
   "source": [
    "states.head()"
   ]
  },
  {
   "cell_type": "code",
   "execution_count": 461,
   "metadata": {
    "collapsed": false
   },
   "outputs": [
    {
     "data": {
      "text/plain": [
       "<matplotlib.axes._subplots.AxesSubplot at 0x7f56455bd150>"
      ]
     },
     "execution_count": 461,
     "metadata": {},
     "output_type": "execute_result"
    },
    {
     "data": {
      "image/png": "[encoded data removed]",
      "text/plain": [
       "<matplotlib.figure.Figure at 0x7f56421aaa50>"
      ]
     },
     "metadata": {},
     "output_type": "display_data"
    }
   ],
   "source": [
    "#Great! Now let's use our advantage column to create a grossly over-simplified choropleth map:\n",
    "\n",
    "#Scrolling back up to our bbox tool to get a simplifying bounding box around just the continental states gives us:\n",
    "#-131.1,21.8,-64.3,52.4\n",
    "\n",
    "axes = plt.gca()\n",
    "axes.set_xlim([-132,-64])\n",
    "axes.set_ylim([21,53])\n",
    "states.plot(column = 'advantage', figsize = (15,10), ax = axes, cmap = 'bwr')#color_kwds = {1:'red', 0:'blue'})\n",
    "\n",
    "\n"
   ]
  },
  {
   "cell_type": "markdown",
   "metadata": {},
   "source": [
    "----------------\n",
    "# Points\n",
    "\n",
    "Tweets containing 'quake' or 'tremor'\n",
    "\n",
    "# __DOWNLOAD TWEETS,INTROSPECT, DEMO THE LAT/LON COMPONENTS, THEN USE THIS TO INTRODUCE GEOPANDAS AND CREATE A GEOPANDAS GEODATAFRAME__"
   ]
  },
  {
   "cell_type": "code",
   "execution_count": 495,
   "metadata": {
    "collapsed": false
   },
   "outputs": [],
   "source": [
    "#Now, let's create a spatial dataset to look at the proportions of tweets about the dis-advantaged candidate\n",
    "#in each state, for the week leading up to the election (10/31/16 - 11/07/16)\n",
    "\n",
    "#First, set up our Twitter authentication\n",
    "with open('/home/ihavehands/Desktop/DEH_creds.yml', 'r') as f:\n",
    "    creds = yaml.load(f)\n",
    "\n",
    "\n",
    "twitter = OAuth1Session(**creds)\n",
    "\n",
    "search = \"https://api.twitter.com/1.1/search/tweets.json\""
   ]
  },
  {
   "cell_type": "code",
   "execution_count": 483,
   "metadata": {
    "collapsed": true
   },
   "outputs": [],
   "source": [
    "#test API request\n",
    "test_tweets = twitter.get(search, params={\n",
    "            'q' : 'Donald OR Trump :)',  \n",
    "            #containing Hillary and/or Clinton (but not Bill), and with a negative attitude\n",
    "            'geocode' : '39.8000000,-98.5000000,2000mi',\n",
    "            'count' : '100',\n",
    "            'max_id': '792715297925001215'\n",
    "        })"
   ]
  },
  {
   "cell_type": "code",
   "execution_count": 484,
   "metadata": {
    "collapsed": false
   },
   "outputs": [
    {
     "data": {
      "text/plain": [
       "796143470855462913"
      ]
     },
     "execution_count": 484,
     "metadata": {},
     "output_type": "execute_result"
    }
   ],
   "source": [
    "#Also, we'll need to play with the min and max ID values for the strings of tweets returned each time, \n",
    "#since we only get batches of max 100\n",
    "\n",
    "#So here's how we return the max_id from a set of tweets\n",
    "clinton_pos.json()['search_metadata']['max_id']"
   ]
  },
  {
   "cell_type": "code",
   "execution_count": 485,
   "metadata": {
    "collapsed": false
   },
   "outputs": [
    {
     "data": {
      "text/plain": [
       "796128726090129412"
      ]
     },
     "execution_count": 485,
     "metadata": {},
     "output_type": "execute_result"
    }
   ],
   "source": [
    "#And this will return the min\n",
    "min([st['id'] for st in clinton_pos.json()['statuses']])"
   ]
  },
  {
   "cell_type": "code",
   "execution_count": 529,
   "metadata": {
    "collapsed": true
   },
   "outputs": [],
   "source": [
    "geocoder = GoogleV3()\n",
    "c_pos = []\n",
    "c_neg = []\n",
    "t_pos = []\n",
    "t_neg = []\n",
    "coords = (c_pos, c_neg, t_pos, t_neg)"
   ]
  },
  {
   "cell_type": "code",
   "execution_count": 542,
   "metadata": {
    "collapsed": false
   },
   "outputs": [],
   "source": [
    "\n",
    "def get_tweets(max_id):\n",
    "    #A search for geolocated tweets within 2000 miles of the cetner of the USA \n",
    "    #(a Google search for the centroid returns 39°50′N 98°35′W) should give us tweets covering the 48 continental states\n",
    "\n",
    "    #We'll conduct separate searches for Clinton and Trump, to refine them each a bit\n",
    "    #Remember that there is a full list of query options at: https://dev.twitter.com/rest/public/search\n",
    "\n",
    "    sp_range = '39.8000000,-98.5000000,2000mi'\n",
    "    ct = '10'  #NOTE: Change to max (100) for accumulation of real data\n",
    "    \n",
    "    #Clinton data:\n",
    "    print('retrieving c_p...')\n",
    "    clinton_pos = twitter.get(search, params={\n",
    "            'q' : 'Hillary OR Clinton -Bill :)',  \n",
    "            #containing Hillary and/or Clinton (but not Bill), and with a positive attitude\n",
    "            'geocode' : sp_range,\n",
    "            'count' : ct,\n",
    "            'max_id': max_id[0]\n",
    "        })\n",
    "    print('\\t' + str(len(clinton_pos.json()['statuses'])))\n",
    "    \n",
    "    print('retrieving c_n...')\n",
    "    clinton_neg = twitter.get(search, params={\n",
    "            'q' : 'Hillary OR Clinton -Bill :(',  \n",
    "            #containing Hillary and/or Clinton (but not Bill), and with a negative attitude\n",
    "            'geocode' : sp_range,\n",
    "            'count' : ct,\n",
    "            'max_id': max_id[1]\n",
    "        })\n",
    "    print('\\t' + str(len(clinton_neg.json()['statuses'])))\n",
    "    \n",
    "    print('retrieving t_p...')\n",
    "    trump_pos = twitter.get(search, params={\n",
    "            'q' : 'Donald OR Trump :)',  \n",
    "            #containing Donald and/or Trump, and with a positive attitude\n",
    "            'geocode' : sp_range,\n",
    "            'count' : ct,\n",
    "            'max_id': max_id[2]\n",
    "        })\n",
    "    print('\\t' + str(len(trump_pos.json()['statuses'])))\n",
    "    \n",
    "    print('retrieving t_n...')\n",
    "    trump_neg = twitter.get(search, params={\n",
    "            'q' : 'Donald OR Trump :(',  \n",
    "            #containing Donald and/or Trump, and with a negative attitude\n",
    "            'geocode' : sp_range,\n",
    "            'count' : ct,\n",
    "            'max_id': max_id[3]\n",
    "        })\n",
    "    print('\\t' + str(len(trump_neg.json()['statuses'])))\n",
    "\n",
    "    #FOR QUICK DEBUGGING OF TWITTER AUTH ISSUES:\n",
    "    #print(clinton_pos.status_code, clinton_pos.reason)\n",
    "    #print(clinton_neg.status_code, clinton_neg.reason)\n",
    "    #print(trump_pos.status_code, trump_pos.reason)\n",
    "    #print(trump_neg.status_code, trump_neg.reason)\n",
    "    \n",
    "    #Because of these lines, a loop should essentially run until this evaluates to False,\n",
    "    #Which is most likely to happen if our account is locked because of rate or day-rate limiting\n",
    "    assert clinton_pos.ok \n",
    "    assert clinton_neg.ok\n",
    "    assert trump_pos.ok\n",
    "    assert trump_neg.ok\n",
    "    \n",
    "    return (clinton_pos, clinton_neg, trump_pos, trump_neg)\n",
    "    \n",
    "    \n",
    "#function to get locations from tweets    \n",
    "def get_locs(tweets):\n",
    "    locs = []\n",
    "    for s in tweets.json()['statuses']:\n",
    "        try:\n",
    "            locs.append(s['user']['location'])\n",
    "        except Exception:\n",
    "            pass\n",
    "    print('loc length' + str(len(locs)))\n",
    "    return locs\n",
    "        \n",
    "        \n",
    "\n",
    "#function to geocode locations\n",
    "def get_coords(locs):\n",
    "    coord_list = []\n",
    "    for loc in locs:\n",
    "        try:\n",
    "            code = geocoder.geocode(loc)\n",
    "            coord_list.append((code.longitude, code.latitude))\n",
    "        except Exception:\n",
    "            pass\n",
    "    return coord_list\n",
    "\n",
    "\n",
    "#function to knit them all together, returning geolocations for tweets\n",
    "def find_tweet_locs(max_id):\n",
    "    tweets = get_tweets(max_id)\n",
    "    \n",
    "    for n, tweet_set in enumerate(tweets):\n",
    "        if len(tweet_set.json()['statuses']) > 0:\n",
    "            coords[n].extend(get_coords(get_locs(tweet_set)))\n",
    "        \n",
    "            #set the new max_ids == min_ids from previous search, separately for each of the four searches\n",
    "            print(n, ': ', min([st['id'] for st in tweet_set.json()['statuses']])) \n",
    "            max_id[n] = str(min([st['id'] for st in tweet_set.json()['statuses']])-1)\n",
    "            #Subtract one from the min_id, b/c max_id is inclusive; see https://dev.twitter.com/rest/public/timelines\n",
    "\n",
    "#final function, to loop for a given number of times, dumping coordinates into the containers created above\n",
    "def loop_find_tweet_locs(n, max_id = None):\n",
    "    if max_id == None:\n",
    "        max_id = ['1000000000000000000000000000000000000'] * 4   #Starting max_id at a value way above the most recent tweet\n",
    "    print('Starting max_id: ', max_id)\n",
    "    for i in range(n):\n",
    "        print('loop number %i' % i)\n",
    "        find_tweet_locs(max_id)\n",
    "        print max_id\n",
    "    return max_id \n",
    "    #Will give us back to max_id vector at the end, in case we want to run more searches later and continue to accrue results\n",
    "        "
   ]
  },
  {
   "cell_type": "code",
   "execution_count": 543,
   "metadata": {
    "collapsed": false
   },
   "outputs": [
    {
     "data": {
      "text/plain": [
       "[0, 0, 0, 0]"
      ]
     },
     "execution_count": 543,
     "metadata": {},
     "output_type": "execute_result"
    }
   ],
   "source": [
    "[len(coords[i]) for i in range(1)] #NOTE: Change to larger number of iterations to collection of full data"
   ]
  },
  {
   "cell_type": "code",
   "execution_count": 544,
   "metadata": {
    "collapsed": false,
    "scrolled": true
   },
   "outputs": [
    {
     "name": "stdout",
     "output_type": "stream",
     "text": [
      "('Starting max_id: ', ['1000000000000000000000000000000000000', '1000000000000000000000000000000000000', '1000000000000000000000000000000000000', '1000000000000000000000000000000000000'])\n",
      "loop number 0\n",
      "retrieving c_p...\n",
      "\t100\n",
      "retrieving c_n...\n",
      "\t100\n",
      "retrieving t_p...\n",
      "\t90\n",
      "retrieving t_n...\n",
      "\t100\n",
      "loc length100\n",
      "(0, ': ', 796147322690424833)\n",
      "loc length100\n",
      "(1, ': ', 796119078679277569)\n",
      "loc length90\n",
      "(2, ': ', 796154158474739713)\n",
      "loc length100\n",
      "(3, ': ', 796147389547610113)\n",
      "['796147322690424832', '796119078679277568', '796154158474739712', '796147389547610112']\n"
     ]
    }
   ],
   "source": [
    "#Now run our function 5 times to try it out!\n",
    "last_max_id = loop_find_tweet_locs(1)\n",
    "#last_max_id = loop_find_tweet_locs(25, max_id = last_max_id)"
   ]
  },
  {
   "cell_type": "code",
   "execution_count": 545,
   "metadata": {
    "collapsed": false
   },
   "outputs": [
    {
     "data": {
      "text/plain": [
       "[0, 0, 0, 0]"
      ]
     },
     "execution_count": 545,
     "metadata": {},
     "output_type": "execute_result"
    }
   ],
   "source": [
    "[len(coords[i]) for i in range(4)]"
   ]
  },
  {
   "cell_type": "markdown",
   "metadata": {},
   "source": [
    "#### TAKE A BRIEF LOOK AT WHAT WE DOWNLOADED\n",
    "\n",
    "#### THEN EXPLAIN THAT BECAUSE OF RATE-LIMITING AND TIME CONSTRAINTS, I'VE COMPILED A LARGE DATASET THIS WAY\n",
    "#### AND SAVED IT AS A pickle, WHICH WE WILL NOW READ IN AND USE FOR ANALYSIS"
   ]
  },
  {
   "cell_type": "code",
   "execution_count": null,
   "metadata": {
    "collapsed": true
   },
   "outputs": [],
   "source": [
    "#Read in pickled coordinates data from Tweets\n"
   ]
  },
  {
   "cell_type": "code",
   "execution_count": null,
   "metadata": {
    "collapsed": true
   },
   "outputs": [],
   "source": [
    "#Check sample sizes (i.e. lengths)"
   ]
  },
  {
   "cell_type": "code",
   "execution_count": 513,
   "metadata": {
    "collapsed": false
   },
   "outputs": [],
   "source": [
    "#Create a GeoSeries of spatial points from the tweet coordinates\n",
    "pts = []\n",
    "for n, pt_set in enumerate(coords):\n",
    "    pts.append(gpd.GeoSeries([Point(x, y) for x, y in pt_set]))\n",
    "    \n",
    "#pts.intersects(states['geometry'].unary_union)\n",
    "    \n",
    "#figure out how to sum by polygon\n",
    "\n",
    "#then calculate proportion negative comments dis-advantaged to positive comments advantaged by state\n"
   ]
  },
  {
   "cell_type": "code",
   "execution_count": 514,
   "metadata": {
    "collapsed": true
   },
   "outputs": [],
   "source": [
    "#Add columns to states gdf tally counts for each of the 4 twitter searches\n",
    "states['c_p'] = 0\n",
    "states['c_n'] = 0\n",
    "states['t_p'] = 0\n",
    "states['t_n'] = 0"
   ]
  },
  {
   "cell_type": "code",
   "execution_count": 517,
   "metadata": {
    "collapsed": false
   },
   "outputs": [
    {
     "name": "stdout",
     "output_type": "stream",
     "text": [
      "4\n"
     ]
    }
   ],
   "source": [
    "#Save the four categories (i.e. positive and negative tweet-sentiment for each candidate) as a reference list, in\n",
    "#matching order to other code above\n",
    "cats = ['c_p', 'c_n', 't_p', 't_n']\n",
    "\n",
    "#Now check polygon intersecting with each tweet's coordinate, and add one tweet in the appropriate category \n",
    "#(i.e. column) of the appropriate state (i.e. row) in our GeoDataFrame\n",
    "for n, cat in enumerate(cats):\n",
    "    pt_set = pts[n]\n",
    "    for pt in pt_set:\n",
    "        int_list = states['geometry'].intersects(pt)\n",
    "        #print(int_list[int_list == True])\n",
    "        try:\n",
    "            int_st = [str(int_list[int_list == True].index[0])]\n",
    "            #states.ix[int_st][cat] = states.ix[int_st][cat] + 1\n",
    "            states = states.set_value(int_st, cat, states.ix[int_st][cat]+1)\n",
    "        except Exception:\n",
    "            pass"
   ]
  },
  {
   "cell_type": "code",
   "execution_count": 518,
   "metadata": {
    "collapsed": false
   },
   "outputs": [
    {
     "data": {
      "text/html": [
       "<div>\n",
       "<table border=\"1\" class=\"dataframe\">\n",
       "  <thead>\n",
       "    <tr style=\"text-align: right;\">\n",
       "      <th></th>\n",
       "      <th>AFFGEOID</th>\n",
       "      <th>ALAND</th>\n",
       "      <th>AWATER</th>\n",
       "      <th>GEOID</th>\n",
       "      <th>LSAD</th>\n",
       "      <th>STATEFP</th>\n",
       "      <th>STATENS</th>\n",
       "      <th>STUSPS</th>\n",
       "      <th>geometry</th>\n",
       "      <th>Dem</th>\n",
       "      <th>GOP</th>\n",
       "      <th>advantage</th>\n",
       "      <th>c_p</th>\n",
       "      <th>c_n</th>\n",
       "      <th>t_p</th>\n",
       "      <th>t_n</th>\n",
       "      <th>voter_affect</th>\n",
       "      <th>abs_voter_affect</th>\n",
       "    </tr>\n",
       "  </thead>\n",
       "  <tbody>\n",
       "    <tr>\n",
       "      <th>Alabama</th>\n",
       "      <td>0400000US01</td>\n",
       "      <td>1.311734e+11</td>\n",
       "      <td>4.593985e+09</td>\n",
       "      <td>01</td>\n",
       "      <td>00</td>\n",
       "      <td>01</td>\n",
       "      <td>01779775</td>\n",
       "      <td>AL</td>\n",
       "      <td>(POLYGON ((-88.053375 30.506987, -88.051087999...</td>\n",
       "      <td>34.750000</td>\n",
       "      <td>53.750000</td>\n",
       "      <td>1</td>\n",
       "      <td>0</td>\n",
       "      <td>0</td>\n",
       "      <td>0</td>\n",
       "      <td>0</td>\n",
       "      <td>-0.500000</td>\n",
       "      <td>0.500000</td>\n",
       "    </tr>\n",
       "    <tr>\n",
       "      <th>Alaska</th>\n",
       "      <td>0400000US02</td>\n",
       "      <td>1.477946e+12</td>\n",
       "      <td>2.453917e+11</td>\n",
       "      <td>02</td>\n",
       "      <td>00</td>\n",
       "      <td>02</td>\n",
       "      <td>01785533</td>\n",
       "      <td>AK</td>\n",
       "      <td>(POLYGON ((-177.466812 51.904003, -177.464905 ...</td>\n",
       "      <td>35.750000</td>\n",
       "      <td>45.875000</td>\n",
       "      <td>1</td>\n",
       "      <td>0</td>\n",
       "      <td>0</td>\n",
       "      <td>0</td>\n",
       "      <td>0</td>\n",
       "      <td>NaN</td>\n",
       "      <td>NaN</td>\n",
       "    </tr>\n",
       "    <tr>\n",
       "      <th>Arizona</th>\n",
       "      <td>0400000US04</td>\n",
       "      <td>2.942045e+11</td>\n",
       "      <td>1.027559e+09</td>\n",
       "      <td>04</td>\n",
       "      <td>00</td>\n",
       "      <td>04</td>\n",
       "      <td>01779777</td>\n",
       "      <td>AZ</td>\n",
       "      <td>POLYGON ((-114.816294 32.508038, -114.814321 3...</td>\n",
       "      <td>41.071429</td>\n",
       "      <td>42.678571</td>\n",
       "      <td>1</td>\n",
       "      <td>0</td>\n",
       "      <td>0</td>\n",
       "      <td>0</td>\n",
       "      <td>0</td>\n",
       "      <td>-1.000000</td>\n",
       "      <td>1.000000</td>\n",
       "    </tr>\n",
       "    <tr>\n",
       "      <th>Arkansas</th>\n",
       "      <td>0400000US05</td>\n",
       "      <td>1.347693e+11</td>\n",
       "      <td>2.962525e+09</td>\n",
       "      <td>05</td>\n",
       "      <td>00</td>\n",
       "      <td>05</td>\n",
       "      <td>00068085</td>\n",
       "      <td>AR</td>\n",
       "      <td>POLYGON ((-94.6178329666013 36.4994141203285, ...</td>\n",
       "      <td>35.272727</td>\n",
       "      <td>53.000000</td>\n",
       "      <td>1</td>\n",
       "      <td>0</td>\n",
       "      <td>0</td>\n",
       "      <td>0</td>\n",
       "      <td>0</td>\n",
       "      <td>NaN</td>\n",
       "      <td>NaN</td>\n",
       "    </tr>\n",
       "    <tr>\n",
       "      <th>California</th>\n",
       "      <td>0400000US06</td>\n",
       "      <td>4.034890e+11</td>\n",
       "      <td>2.047799e+10</td>\n",
       "      <td>06</td>\n",
       "      <td>00</td>\n",
       "      <td>06</td>\n",
       "      <td>01779778</td>\n",
       "      <td>CA</td>\n",
       "      <td>(POLYGON ((-118.604415 33.478552, -118.598783 ...</td>\n",
       "      <td>53.387097</td>\n",
       "      <td>31.387097</td>\n",
       "      <td>0</td>\n",
       "      <td>0</td>\n",
       "      <td>0</td>\n",
       "      <td>0</td>\n",
       "      <td>0</td>\n",
       "      <td>0.333333</td>\n",
       "      <td>0.333333</td>\n",
       "    </tr>\n",
       "  </tbody>\n",
       "</table>\n",
       "</div>"
      ],
      "text/plain": [
       "               AFFGEOID         ALAND        AWATER GEOID LSAD STATEFP  \\\n",
       "Alabama     0400000US01  1.311734e+11  4.593985e+09    01   00      01   \n",
       "Alaska      0400000US02  1.477946e+12  2.453917e+11    02   00      02   \n",
       "Arizona     0400000US04  2.942045e+11  1.027559e+09    04   00      04   \n",
       "Arkansas    0400000US05  1.347693e+11  2.962525e+09    05   00      05   \n",
       "California  0400000US06  4.034890e+11  2.047799e+10    06   00      06   \n",
       "\n",
       "             STATENS STUSPS  \\\n",
       "Alabama     01779775     AL   \n",
       "Alaska      01785533     AK   \n",
       "Arizona     01779777     AZ   \n",
       "Arkansas    00068085     AR   \n",
       "California  01779778     CA   \n",
       "\n",
       "                                                     geometry        Dem  \\\n",
       "Alabama     (POLYGON ((-88.053375 30.506987, -88.051087999...  34.750000   \n",
       "Alaska      (POLYGON ((-177.466812 51.904003, -177.464905 ...  35.750000   \n",
       "Arizona     POLYGON ((-114.816294 32.508038, -114.814321 3...  41.071429   \n",
       "Arkansas    POLYGON ((-94.6178329666013 36.4994141203285, ...  35.272727   \n",
       "California  (POLYGON ((-118.604415 33.478552, -118.598783 ...  53.387097   \n",
       "\n",
       "                  GOP  advantage  c_p  c_n  t_p  t_n  voter_affect  \\\n",
       "Alabama     53.750000          1    0    0    0    0     -0.500000   \n",
       "Alaska      45.875000          1    0    0    0    0           NaN   \n",
       "Arizona     42.678571          1    0    0    0    0     -1.000000   \n",
       "Arkansas    53.000000          1    0    0    0    0           NaN   \n",
       "California  31.387097          0    0    0    0    0      0.333333   \n",
       "\n",
       "            abs_voter_affect  \n",
       "Alabama             0.500000  \n",
       "Alaska                   NaN  \n",
       "Arizona             1.000000  \n",
       "Arkansas                 NaN  \n",
       "California          0.333333  "
      ]
     },
     "execution_count": 518,
     "metadata": {},
     "output_type": "execute_result"
    }
   ],
   "source": [
    "#Check that it seems to have worked out\n",
    "states.head()"
   ]
  },
  {
   "cell_type": "code",
   "execution_count": 474,
   "metadata": {
    "collapsed": false
   },
   "outputs": [
    {
     "name": "stderr",
     "output_type": "stream",
     "text": [
      "/usr/local/lib/python2.7/dist-packages/ipykernel/__main__.py:31: RuntimeWarning: invalid value encountered in absolute\n"
     ]
    }
   ],
   "source": [
    "#Now write a function to calculate the 'tweet-sentiment skew' (pro-favored versus anti-unfavored) in each state\n",
    "\n",
    "#state_colors = {1:'red', 0:'blue'} \n",
    "\n",
    "#reference dictionary of the two categories used to calculate skew, depending on the party advantage indicated\n",
    "#by the polling data of a state\n",
    "adv_supp_disadv_attack_vars = {1: ('t_p', 'c_n'),\n",
    "                               0: ('c_p', 't_n')\n",
    "                              }\n",
    "\n",
    "#function to calculate the tweet-sentiment skew\n",
    "def tweet_sentiment_skew(adv_support, disadv_attack):   \n",
    "    #0.5 == even (i.e. null) split between advatage-supportive and disadvantage-attacking tweets\n",
    "    return float(disadv_attack) / (adv_support + disadv_attack) #Constrained to a value between 0 and 1\n",
    "\n",
    "\n",
    "#function to calculate our skew index for all sates\n",
    "def calc_skew(row):\n",
    "    state = row.name\n",
    "    st_col = state_colors[row['advantage']]\n",
    "    tweet_vars = adv_supp_disadv_attack_vars[row['advantage']]\n",
    "    try:\n",
    "        skew = tweet_sentiment_skew(row[tweet_vars[0]], row[tweet_vars[1]])\n",
    "        if row['advantage'] == 1:\n",
    "            skew = -1*skew   #This will distribute affect values between -1 and 0 in red states, \n",
    "                             #and between 0 and 1 in blue states,\n",
    "                             #so that plotting lines works out right with the colormap\n",
    "    except ZeroDivisionError:\n",
    "        skew = np.NaN\n",
    "    \n",
    "    return skew\n",
    "\n",
    "states['skew'] = states.apply(calc_skew, axis = 1)\n",
    "\n",
    "states['abs_skew'] = [np.abs(v_a) for v_a in states['skew']]\n"
   ]
  },
  {
   "cell_type": "code",
   "execution_count": 475,
   "metadata": {
    "collapsed": false,
    "scrolled": true
   },
   "outputs": [
    {
     "data": {
      "text/html": [
       "<div>\n",
       "<table border=\"1\" class=\"dataframe\">\n",
       "  <thead>\n",
       "    <tr style=\"text-align: right;\">\n",
       "      <th></th>\n",
       "      <th>AFFGEOID</th>\n",
       "      <th>ALAND</th>\n",
       "      <th>AWATER</th>\n",
       "      <th>GEOID</th>\n",
       "      <th>LSAD</th>\n",
       "      <th>STATEFP</th>\n",
       "      <th>STATENS</th>\n",
       "      <th>STUSPS</th>\n",
       "      <th>geometry</th>\n",
       "      <th>Dem</th>\n",
       "      <th>GOP</th>\n",
       "      <th>advantage</th>\n",
       "      <th>c_p</th>\n",
       "      <th>c_n</th>\n",
       "      <th>t_p</th>\n",
       "      <th>t_n</th>\n",
       "      <th>voter_affect</th>\n",
       "      <th>abs_voter_affect</th>\n",
       "    </tr>\n",
       "  </thead>\n",
       "  <tbody>\n",
       "    <tr>\n",
       "      <th>Alabama</th>\n",
       "      <td>0400000US01</td>\n",
       "      <td>1.311734e+11</td>\n",
       "      <td>4.593985e+09</td>\n",
       "      <td>01</td>\n",
       "      <td>00</td>\n",
       "      <td>01</td>\n",
       "      <td>01779775</td>\n",
       "      <td>AL</td>\n",
       "      <td>(POLYGON ((-88.053375 30.506987, -88.051087999...</td>\n",
       "      <td>34.750000</td>\n",
       "      <td>53.750000</td>\n",
       "      <td>1</td>\n",
       "      <td>0</td>\n",
       "      <td>2</td>\n",
       "      <td>2</td>\n",
       "      <td>1</td>\n",
       "      <td>-0.500000</td>\n",
       "      <td>0.500000</td>\n",
       "    </tr>\n",
       "    <tr>\n",
       "      <th>Alaska</th>\n",
       "      <td>0400000US02</td>\n",
       "      <td>1.477946e+12</td>\n",
       "      <td>2.453917e+11</td>\n",
       "      <td>02</td>\n",
       "      <td>00</td>\n",
       "      <td>02</td>\n",
       "      <td>01785533</td>\n",
       "      <td>AK</td>\n",
       "      <td>(POLYGON ((-177.466812 51.904003, -177.464905 ...</td>\n",
       "      <td>35.750000</td>\n",
       "      <td>45.875000</td>\n",
       "      <td>1</td>\n",
       "      <td>0</td>\n",
       "      <td>0</td>\n",
       "      <td>0</td>\n",
       "      <td>0</td>\n",
       "      <td>NaN</td>\n",
       "      <td>NaN</td>\n",
       "    </tr>\n",
       "    <tr>\n",
       "      <th>Arizona</th>\n",
       "      <td>0400000US04</td>\n",
       "      <td>2.942045e+11</td>\n",
       "      <td>1.027559e+09</td>\n",
       "      <td>04</td>\n",
       "      <td>00</td>\n",
       "      <td>04</td>\n",
       "      <td>01779777</td>\n",
       "      <td>AZ</td>\n",
       "      <td>POLYGON ((-114.816294 32.508038, -114.814321 3...</td>\n",
       "      <td>41.071429</td>\n",
       "      <td>42.678571</td>\n",
       "      <td>1</td>\n",
       "      <td>0</td>\n",
       "      <td>2</td>\n",
       "      <td>0</td>\n",
       "      <td>3</td>\n",
       "      <td>-1.000000</td>\n",
       "      <td>1.000000</td>\n",
       "    </tr>\n",
       "    <tr>\n",
       "      <th>Arkansas</th>\n",
       "      <td>0400000US05</td>\n",
       "      <td>1.347693e+11</td>\n",
       "      <td>2.962525e+09</td>\n",
       "      <td>05</td>\n",
       "      <td>00</td>\n",
       "      <td>05</td>\n",
       "      <td>00068085</td>\n",
       "      <td>AR</td>\n",
       "      <td>POLYGON ((-94.6178329666013 36.4994141203285, ...</td>\n",
       "      <td>35.272727</td>\n",
       "      <td>53.000000</td>\n",
       "      <td>1</td>\n",
       "      <td>0</td>\n",
       "      <td>0</td>\n",
       "      <td>0</td>\n",
       "      <td>0</td>\n",
       "      <td>NaN</td>\n",
       "      <td>NaN</td>\n",
       "    </tr>\n",
       "    <tr>\n",
       "      <th>California</th>\n",
       "      <td>0400000US06</td>\n",
       "      <td>4.034890e+11</td>\n",
       "      <td>2.047799e+10</td>\n",
       "      <td>06</td>\n",
       "      <td>00</td>\n",
       "      <td>06</td>\n",
       "      <td>01779778</td>\n",
       "      <td>CA</td>\n",
       "      <td>(POLYGON ((-118.604415 33.478552, -118.598783 ...</td>\n",
       "      <td>53.387097</td>\n",
       "      <td>31.387097</td>\n",
       "      <td>0</td>\n",
       "      <td>16</td>\n",
       "      <td>10</td>\n",
       "      <td>8</td>\n",
       "      <td>8</td>\n",
       "      <td>0.333333</td>\n",
       "      <td>0.333333</td>\n",
       "    </tr>\n",
       "  </tbody>\n",
       "</table>\n",
       "</div>"
      ],
      "text/plain": [
       "               AFFGEOID         ALAND        AWATER GEOID LSAD STATEFP  \\\n",
       "Alabama     0400000US01  1.311734e+11  4.593985e+09    01   00      01   \n",
       "Alaska      0400000US02  1.477946e+12  2.453917e+11    02   00      02   \n",
       "Arizona     0400000US04  2.942045e+11  1.027559e+09    04   00      04   \n",
       "Arkansas    0400000US05  1.347693e+11  2.962525e+09    05   00      05   \n",
       "California  0400000US06  4.034890e+11  2.047799e+10    06   00      06   \n",
       "\n",
       "             STATENS STUSPS  \\\n",
       "Alabama     01779775     AL   \n",
       "Alaska      01785533     AK   \n",
       "Arizona     01779777     AZ   \n",
       "Arkansas    00068085     AR   \n",
       "California  01779778     CA   \n",
       "\n",
       "                                                     geometry        Dem  \\\n",
       "Alabama     (POLYGON ((-88.053375 30.506987, -88.051087999...  34.750000   \n",
       "Alaska      (POLYGON ((-177.466812 51.904003, -177.464905 ...  35.750000   \n",
       "Arizona     POLYGON ((-114.816294 32.508038, -114.814321 3...  41.071429   \n",
       "Arkansas    POLYGON ((-94.6178329666013 36.4994141203285, ...  35.272727   \n",
       "California  (POLYGON ((-118.604415 33.478552, -118.598783 ...  53.387097   \n",
       "\n",
       "                  GOP  advantage  c_p  c_n  t_p  t_n  voter_affect  \\\n",
       "Alabama     53.750000          1    0    2    2    1     -0.500000   \n",
       "Alaska      45.875000          1    0    0    0    0           NaN   \n",
       "Arizona     42.678571          1    0    2    0    3     -1.000000   \n",
       "Arkansas    53.000000          1    0    0    0    0           NaN   \n",
       "California  31.387097          0   16   10    8    8      0.333333   \n",
       "\n",
       "            abs_voter_affect  \n",
       "Alabama             0.500000  \n",
       "Alaska                   NaN  \n",
       "Arizona             1.000000  \n",
       "Arkansas                 NaN  \n",
       "California          0.333333  "
      ]
     },
     "execution_count": 475,
     "metadata": {},
     "output_type": "execute_result"
    }
   ],
   "source": [
    "#Again, a quick check that it seems to have worked \n",
    "#(Note: I have calculated a couple states by hand and checked against the output)\n",
    "states.head()"
   ]
  },
  {
   "cell_type": "code",
   "execution_count": 479,
   "metadata": {
    "collapsed": false
   },
   "outputs": [
    {
     "name": "stderr",
     "output_type": "stream",
     "text": [
      "/usr/local/lib/python2.7/dist-packages/geopandas/geodataframe.py:447: UserWarning: Unrecognized scheme \"box_plot\". Using \"Quantiles\" instead\n",
      "  return plot_dataframe(self, *args, **kwargs)\n"
     ]
    },
    {
     "data": {
      "text/plain": [
       "<matplotlib.axes._subplots.AxesSubplot at 0x7f562db22dd0>"
      ]
     },
     "execution_count": 479,
     "metadata": {},
     "output_type": "execute_result"
    },
    {
     "data": {
      "image/png": "[encoded data removed]",
      "text/plain": [
       "<matplotlib.figure.Figure at 0x7f562db22150>"
      ]
     },
     "metadata": {},
     "output_type": "display_data"
    }
   ],
   "source": [
    "axes = plt.gca()\n",
    "axes.set_xlim([-132,-64])\n",
    "axes.set_ylim([21,53])\n",
    "#NOTE: WHAT IS THE BEST COLORMAP TO USE? (WANT TO ENSURE THAT 0 IS FIXED AT WHITE)\n",
    "states.plot(column = 'voter_affect', figsize = (15,10), ax = axes, cmap = 'coolwarm', scheme = 'equal_interval') #, legend = True)"
   ]
  },
  {
   "cell_type": "code",
   "execution_count": 473,
   "metadata": {
    "collapsed": false
   },
   "outputs": [
    {
     "name": "stdout",
     "output_type": "stream",
     "text": [
      "('mean red affect: ', 0.5270815928710666)\n",
      "('mean blue affect: ', 0.33686067019400345)\n"
     ]
    },
    {
     "data": {
      "text/plain": [
       "(1.4520071263902885, 0.15654628778007998)"
      ]
     },
     "execution_count": 473,
     "metadata": {},
     "output_type": "execute_result"
    }
   ],
   "source": [
    "from scipy import stats\n",
    "\n",
    "#Does this index of voter affect differ significantly between red and blue states??\n",
    "\n",
    "red_affect = [val for val in states[states['advantage'] == 1]['abs_voter_affect'] if not np.isnan(val)]\n",
    "blue_affect = [val for val in states[states['advantage'] == 0]['abs_voter_affect'] if not np.isnan(val)]\n",
    "print('mean red affect: ', np.mean(red_affect))\n",
    "print('mean blue affect: ', np.mean(blue_affect))\n",
    "stats.ttest_ind(red_affect, blue_affect)"
   ]
  }
 ],
 "metadata": {
  "kernelspec": {
   "display_name": "Python 2",
   "language": "python",
   "name": "python2"
  },
  "language_info": {
   "codemirror_mode": {
    "name": "ipython",
    "version": 2
   },
   "file_extension": ".py",
   "mimetype": "text/x-python",
   "name": "python",
   "nbconvert_exporter": "python",
   "pygments_lexer": "ipython2",
   "version": "2.7.12"
  }
 },
 "nbformat": 4,
 "nbformat_minor": 0
}
